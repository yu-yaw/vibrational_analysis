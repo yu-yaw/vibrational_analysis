{
 "cells": [
  {
   "cell_type": "code",
   "execution_count": 1,
   "metadata": {
    "collapsed": true
   },
   "outputs": [],
   "source": [
    "import rdkit\n",
    "from rdkit import Chem\n",
    "from rdkit.Chem import AllChem, rdMolTransforms\n",
    "\n",
    "import py3Dmol\n"
   ]
  },
  {
   "cell_type": "code",
   "execution_count": 3,
   "metadata": {},
   "outputs": [],
   "source": [
    "def view_mol(rdkit_molecule):\n",
    "    \"\"\"\n",
    "    A method designed to create a 3D figure of the Multi_Molecule with py3Dmol\n",
    "    \"\"\"\n",
    "    mb  = Chem.MolToMolBlock(rdkit_molecule)\n",
    "    p = py3Dmol.view(width=400, height=400)\n",
    "    p.addModel(mb, \"sdf\")\n",
    "    p.setStyle({'stick':{}})\n",
    "    p.setBackgroundColor('0xeeeeee')\n",
    "    p.zoomTo()\n",
    "    return p.show()"
   ]
  },
  {
   "cell_type": "code",
   "execution_count": 8,
   "metadata": {
    "collapsed": true
   },
   "outputs": [],
   "source": [
    "mol = Chem.MolFromSmiles(\"CCCC\")\n",
    "mol2 = Chem.AddHs(mol)"
   ]
  },
  {
   "cell_type": "code",
   "execution_count": 9,
   "metadata": {},
   "outputs": [
    {
     "data": {
      "text/plain": [
       "0"
      ]
     },
     "execution_count": 9,
     "metadata": {},
     "output_type": "execute_result"
    }
   ],
   "source": [
    "AllChem.EmbedMolecule(mol2)"
   ]
  },
  {
   "cell_type": "code",
   "execution_count": 10,
   "metadata": {
    "scrolled": true
   },
   "outputs": [
    {
     "data": {
      "text/html": [
       "<div id=\"3dmolviewer_152088210161\"  style=\"position: relative; width: 400px; height: 400px\">\n",
       "<script>\n",
       "if(typeof $3Dmolpromise === 'undefined') $3Dmolpromise = $.when($.getScript('https://3dmol.csb.pitt.edu/build/3Dmol.js'))\n",
       "var viewer_152088210161 = null;\n",
       "$3Dmolpromise.done(function() {\n",
       "viewer_152088210161 = $3Dmol.createViewer($(\"#3dmolviewer_152088210161\"),{backgroundColor:\"white\"});\n",
       "\tviewer_152088210161.addModel(\"\\n     RDKit          3D\\n\\n 14 13  0  0  0  0  0  0  0  0999 V2000\\n   -1.7556    0.4966    0.2965 C   0  0  0  0  0  0  0  0  0  0  0  0\\n   -0.5092    0.3065   -0.5175 C   0  0  0  0  0  0  0  0  0  0  0  0\\n    0.4335   -0.7188    0.0330 C   0  0  0  0  0  0  0  0  0  0  0  0\\n    1.8312   -0.1626    0.2568 C   0  0  0  0  0  0  0  0  0  0  0  0\\n   -1.9636   -0.3626    0.9521 H   0  0  0  0  0  0  0  0  0  0  0  0\\n   -2.6580    0.6025   -0.3558 H   0  0  0  0  0  0  0  0  0  0  0  0\\n   -1.7213    1.4551    0.8744 H   0  0  0  0  0  0  0  0  0  0  0  0\\n   -0.8242   -0.0206   -1.5374 H   0  0  0  0  0  0  0  0  0  0  0  0\\n   -0.0371    1.3109   -0.6136 H   0  0  0  0  0  0  0  0  0  0  0  0\\n    0.0602   -1.1798    0.9825 H   0  0  0  0  0  0  0  0  0  0  0  0\\n    0.5672   -1.5766   -0.6738 H   0  0  0  0  0  0  0  0  0  0  0  0\\n    2.6182   -0.9228    0.0333 H   0  0  0  0  0  0  0  0  0  0  0  0\\n    2.0124    0.6779   -0.4258 H   0  0  0  0  0  0  0  0  0  0  0  0\\n    1.9463    0.0944    1.3309 H   0  0  0  0  0  0  0  0  0  0  0  0\\n  1  2  1  0\\n  2  3  1  0\\n  3  4  1  0\\n  1  5  1  0\\n  1  6  1  0\\n  1  7  1  0\\n  2  8  1  0\\n  2  9  1  0\\n  3 10  1  0\\n  3 11  1  0\\n  4 12  1  0\\n  4 13  1  0\\n  4 14  1  0\\nM  END\\n\",\"sdf\");\n",
       "\tviewer_152088210161.setStyle({\"stick\": {}});\n",
       "\tviewer_152088210161.setBackgroundColor(\"0xeeeeee\");\n",
       "\tviewer_152088210161.zoomTo();\n",
       "viewer_152088210161.render();\n",
       "});\n",
       "</script>"
      ],
      "text/plain": [
       "<IPython.core.display.HTML object>"
      ]
     },
     "execution_count": 10,
     "metadata": {},
     "output_type": "execute_result"
    }
   ],
   "source": [
    "view_mol(mol2)"
   ]
  },
  {
   "cell_type": "code",
   "execution_count": 5,
   "metadata": {},
   "outputs": [
    {
     "name": "stdout",
     "output_type": "stream",
     "text": [
      "\n",
      "     RDKit          3D\n",
      "\n",
      "  4  3  0  0  0  0  0  0  0  0999 V2000\n",
      "   -1.5390   -0.5582   -0.1579 C   0  0  0  0  0  0  0  0  0  0  0  0\n",
      "   -0.6666    0.5505    0.3632 C   0  0  0  0  0  0  0  0  0  0  0  0\n",
      "    0.6595    0.5686   -0.3569 C   0  0  0  0  0  0  0  0  0  0  0  0\n",
      "    1.5460   -0.5609    0.1516 C   0  0  0  0  0  0  0  0  0  0  0  0\n",
      "  1  2  1  0\n",
      "  2  3  1  0\n",
      "  3  4  1  0\n",
      "M  END\n",
      "\n"
     ]
    }
   ],
   "source": [
    "print Chem.MolToMolBlock(mol)\n"
   ]
  },
  {
   "cell_type": "code",
   "execution_count": 6,
   "metadata": {
    "collapsed": true
   },
   "outputs": [],
   "source": [
    "conf = Chem.rdchem.Mol.GetConformer(mol, 0)"
   ]
  },
  {
   "cell_type": "code",
   "execution_count": 7,
   "metadata": {},
   "outputs": [
    {
     "data": {
      "text/plain": [
       "1.5039405670079748"
      ]
     },
     "execution_count": 7,
     "metadata": {},
     "output_type": "execute_result"
    }
   ],
   "source": [
    "rdMolTransforms.GetBondLength(conf,0,1)"
   ]
  },
  {
   "cell_type": "code",
   "execution_count": 14,
   "metadata": {},
   "outputs": [
    {
     "data": {
      "text/plain": [
       "110.68506561173866"
      ]
     },
     "execution_count": 14,
     "metadata": {},
     "output_type": "execute_result"
    }
   ],
   "source": [
    "rdMolTransforms.GetAngleDeg(conf,0,1,2)"
   ]
  },
  {
   "cell_type": "code",
   "execution_count": 8,
   "metadata": {
    "scrolled": true
   },
   "outputs": [
    {
     "data": {
      "text/plain": [
       "-75.8627861645663"
      ]
     },
     "execution_count": 8,
     "metadata": {},
     "output_type": "execute_result"
    }
   ],
   "source": [
    "rdMolTransforms.GetDihedralDeg(conf,0,1,2,3)"
   ]
  },
  {
   "cell_type": "markdown",
   "metadata": {},
   "source": [
    "This is text $\\frac{1}{2}$"
   ]
  },
  {
   "cell_type": "code",
   "execution_count": 11,
   "metadata": {},
   "outputs": [
    {
     "name": "stdout",
     "output_type": "stream",
     "text": [
      "4\n"
     ]
    },
    {
     "data": {
      "text/plain": [
       "'c'"
      ]
     },
     "execution_count": 11,
     "metadata": {},
     "output_type": "execute_result"
    }
   ],
   "source": [
    "print 4\n",
    "\"c\""
   ]
  },
  {
   "cell_type": "code",
   "execution_count": null,
   "metadata": {
    "collapsed": true
   },
   "outputs": [],
   "source": []
  }
 ],
 "metadata": {
  "kernelspec": {
   "display_name": "Python 2",
   "language": "python",
   "name": "python2"
  },
  "language_info": {
   "codemirror_mode": {
    "name": "ipython",
    "version": 2
   },
   "file_extension": ".py",
   "mimetype": "text/x-python",
   "name": "python",
   "nbconvert_exporter": "python",
   "pygments_lexer": "ipython2",
   "version": "2.7.14"
  }
 },
 "nbformat": 4,
 "nbformat_minor": 2
}
